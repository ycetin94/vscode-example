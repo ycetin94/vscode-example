{
  "nbformat": 4,
  "nbformat_minor": 5,
  "metadata": {
    "kernelspec": {
      "display_name": "Python 3 (ipykernel)",
      "language": "python",
      "name": "python3"
    },
    "language_info": {
      "codemirror_mode": {
        "name": "ipython",
        "version": 3
      },
      "file_extension": ".py",
      "mimetype": "text/x-python",
      "name": "python",
      "nbconvert_exporter": "python",
      "pygments_lexer": "ipython3",
      "version": "3.10.0"
    },
    "colab": {
      "name": "calısma-checkpoint.ipynb",
      "provenance": [],
      "include_colab_link": true
    }
  },
  "cells": [
    {
      "cell_type": "markdown",
      "metadata": {
        "id": "view-in-github",
        "colab_type": "text"
      },
      "source": [
        "<a href=\"https://colab.research.google.com/github/ycetin94/vscode-example/blob/main/cal%C4%B1sma_checkpoint.ipynb\" target=\"_parent\"><img src=\"https://colab.research.google.com/assets/colab-badge.svg\" alt=\"Open In Colab\"/></a>"
      ]
    },
    {
      "cell_type": "code",
      "metadata": {
        "id": "3b86baec"
      },
      "source": [
        "def hipo(a,b) :\n",
        "    print(a**2 + b**2)\n",
        "    "
      ],
      "id": "3b86baec",
      "execution_count": null,
      "outputs": []
    },
    {
      "cell_type": "code",
      "metadata": {
        "id": "16f5571c",
        "colab": {
          "base_uri": "https://localhost:8080/"
        },
        "outputId": "02dec37c-299b-4572-937b-272c4089a589"
      },
      "source": [
        "hipo (3,4)"
      ],
      "id": "16f5571c",
      "execution_count": null,
      "outputs": [
        {
          "output_type": "stream",
          "name": "stdout",
          "text": [
            "25\n"
          ]
        }
      ]
    },
    {
      "cell_type": "code",
      "metadata": {
        "id": "518147f3"
      },
      "source": [
        "def hipo1(a,b) :\n",
        "    print((a**2 + b**2)**0.5)"
      ],
      "id": "518147f3",
      "execution_count": null,
      "outputs": []
    },
    {
      "cell_type": "code",
      "metadata": {
        "id": "f993c274",
        "colab": {
          "base_uri": "https://localhost:8080/"
        },
        "outputId": "b1d64ace-5fa2-4de3-f758-455dcbf28e47"
      },
      "source": [
        "hipo1(3,4)"
      ],
      "id": "f993c274",
      "execution_count": null,
      "outputs": [
        {
          "output_type": "stream",
          "name": "stdout",
          "text": [
            "5.0\n"
          ]
        }
      ]
    },
    {
      "cell_type": "code",
      "metadata": {
        "id": "84c78621"
      },
      "source": [
        "def mult(a,b):\n",
        "    print(a*b)"
      ],
      "id": "84c78621",
      "execution_count": null,
      "outputs": []
    },
    {
      "cell_type": "code",
      "metadata": {
        "id": "dc302999",
        "outputId": "bcc8c169-4bed-4ac7-bfd6-3567bb1884fb"
      },
      "source": [
        "mult(5,6)"
      ],
      "id": "dc302999",
      "execution_count": null,
      "outputs": [
        {
          "name": "stdout",
          "output_type": "stream",
          "text": [
            "30\n"
          ]
        }
      ]
    },
    {
      "cell_type": "code",
      "metadata": {
        "id": "364f9d00",
        "colab": {
          "base_uri": "https://localhost:8080/"
        },
        "outputId": "3242366a-6f2a-404b-bfc3-5f61523adc7c"
      },
      "source": [
        "mult(\"ali   \", 6)"
      ],
      "id": "364f9d00",
      "execution_count": null,
      "outputs": [
        {
          "output_type": "stream",
          "name": "stdout",
          "text": [
            "ali   ali   ali   ali   ali   ali   \n"
          ]
        }
      ]
    },
    {
      "cell_type": "code",
      "metadata": {
        "id": "e058d780"
      },
      "source": [
        "def rumi():\n",
        "    print('''      Bir muammadır \"AŞK\", kiminin vicdanına atılan taş,\n",
        "          kiminin fakir gönlüne katılan aş,kiminin de gözünden akıtılan yaştır \"AŞK\".''')"
      ],
      "id": "e058d780",
      "execution_count": null,
      "outputs": []
    },
    {
      "cell_type": "code",
      "metadata": {
        "scrolled": true,
        "id": "750fc4f9",
        "colab": {
          "base_uri": "https://localhost:8080/"
        },
        "outputId": "d26e23d7-5ac9-4c42-b4a1-a90ae0205e73"
      },
      "source": [
        "rumi()"
      ],
      "id": "750fc4f9",
      "execution_count": null,
      "outputs": [
        {
          "output_type": "stream",
          "name": "stdout",
          "text": [
            "      Bir muammadır \"AŞK\", kiminin vicdanına atılan taş,\n",
            "          kiminin fakir gönlüne katılan aş,kiminin de gözünden akıtılan yaştır \"AŞK\".\n"
          ]
        }
      ]
    },
    {
      "cell_type": "code",
      "metadata": {
        "id": "58e4e01c"
      },
      "source": [
        "def add(say1, say2):\n",
        "    print(say1 + say2)"
      ],
      "id": "58e4e01c",
      "execution_count": null,
      "outputs": []
    },
    {
      "cell_type": "code",
      "metadata": {
        "id": "f212775e",
        "outputId": "48ae0e80-8a28-46ca-e6cb-35c47af48dec"
      },
      "source": [
        "add(6,7)"
      ],
      "id": "f212775e",
      "execution_count": null,
      "outputs": [
        {
          "name": "stdout",
          "output_type": "stream",
          "text": [
            "13\n"
          ]
        }
      ]
    },
    {
      "cell_type": "code",
      "metadata": {
        "id": "f3fbd8ac",
        "outputId": "1a574ded-9e02-496d-b9d1-a7e969e54aa7"
      },
      "source": [
        "add(-8,7)"
      ],
      "id": "f3fbd8ac",
      "execution_count": null,
      "outputs": [
        {
          "name": "stdout",
          "output_type": "stream",
          "text": [
            "-1\n"
          ]
        }
      ]
    },
    {
      "cell_type": "code",
      "metadata": {
        "id": "9c0c36c6",
        "outputId": "3c1b5352-f4a1-4115-85ca-7119329d4b70"
      },
      "source": [
        "add(\"6\",\"7\")"
      ],
      "id": "9c0c36c6",
      "execution_count": null,
      "outputs": [
        {
          "name": "stdout",
          "output_type": "stream",
          "text": [
            "67\n"
          ]
        }
      ]
    },
    {
      "cell_type": "code",
      "metadata": {
        "id": "8fc8211b"
      },
      "source": [
        "def calc(a,b, opr):\n",
        "    if opr == \"+\": \n",
        "        print(a + b)\n",
        "    elif opr ==\"-\":\n",
        "        print(a - b)\n",
        "    elif opr ==\"*\":\n",
        "        print(a * b)\n",
        "    elif opr ==\"/\":\n",
        "        print(a / b)\n",
        "    else:\n",
        "        print(\"enter valid operator\")"
      ],
      "id": "8fc8211b",
      "execution_count": null,
      "outputs": []
    },
    {
      "cell_type": "code",
      "metadata": {
        "id": "5007d6f9",
        "outputId": "c7f2977f-8daa-4370-80bb-a06e20679d1e"
      },
      "source": [
        "calc(3,8,\"-\")"
      ],
      "id": "5007d6f9",
      "execution_count": null,
      "outputs": [
        {
          "name": "stdout",
          "output_type": "stream",
          "text": [
            "-5\n"
          ]
        }
      ]
    },
    {
      "cell_type": "code",
      "metadata": {
        "id": "d534e44f",
        "outputId": "d082a51a-1b51-4aca-d300-137dcc24d604"
      },
      "source": [
        "calc(13,8,\"*\")"
      ],
      "id": "d534e44f",
      "execution_count": null,
      "outputs": [
        {
          "name": "stdout",
          "output_type": "stream",
          "text": [
            "104\n"
          ]
        }
      ]
    },
    {
      "cell_type": "code",
      "metadata": {
        "id": "bb6e186c",
        "outputId": "3510dd2c-129b-4166-82a0-7bb436f79bc5"
      },
      "source": [
        "calc(23,8,\"/\")"
      ],
      "id": "bb6e186c",
      "execution_count": null,
      "outputs": [
        {
          "name": "stdout",
          "output_type": "stream",
          "text": [
            "2.875\n"
          ]
        }
      ]
    },
    {
      "cell_type": "code",
      "metadata": {
        "id": "a6ee2455",
        "outputId": "5eadfa52-a380-4499-bebd-89a36bb291f7"
      },
      "source": [
        "calc(103,8,\"/\")"
      ],
      "id": "a6ee2455",
      "execution_count": null,
      "outputs": [
        {
          "name": "stdout",
          "output_type": "stream",
          "text": [
            "12.875\n"
          ]
        }
      ]
    },
    {
      "cell_type": "code",
      "metadata": {
        "id": "c102fe54"
      },
      "source": [
        "def topla(x,y):\n",
        "    return x+y"
      ],
      "id": "c102fe54",
      "execution_count": null,
      "outputs": []
    },
    {
      "cell_type": "code",
      "metadata": {
        "id": "25fb3771",
        "outputId": "de0cd957-5bbc-483e-cba5-87d170a503e8"
      },
      "source": [
        "topla(3,5)\n"
      ],
      "id": "25fb3771",
      "execution_count": null,
      "outputs": [
        {
          "data": {
            "text/plain": [
              "8"
            ]
          },
          "execution_count": 126,
          "metadata": {},
          "output_type": "execute_result"
        }
      ]
    },
    {
      "cell_type": "code",
      "metadata": {
        "id": "418686e9",
        "outputId": "0891eb62-b709-4428-d7fd-ed0c006ce9b9"
      },
      "source": [
        "type(topla(3,5))"
      ],
      "id": "418686e9",
      "execution_count": null,
      "outputs": [
        {
          "data": {
            "text/plain": [
              "int"
            ]
          },
          "execution_count": 127,
          "metadata": {},
          "output_type": "execute_result"
        }
      ]
    },
    {
      "cell_type": "code",
      "metadata": {
        "id": "c5932c19"
      },
      "source": [
        "x = 'My name is Richard'\n",
        "def my_function_1(): \n",
        "    x = 'My name is John' "
      ],
      "id": "c5932c19",
      "execution_count": null,
      "outputs": []
    },
    {
      "cell_type": "code",
      "metadata": {
        "id": "797070e8"
      },
      "source": [
        "my_function_1()"
      ],
      "id": "797070e8",
      "execution_count": null,
      "outputs": []
    },
    {
      "cell_type": "code",
      "metadata": {
        "id": "263be012",
        "outputId": "b5142a37-cbaf-445d-95b0-97d7f4b2b087"
      },
      "source": [
        "print(x)\n"
      ],
      "id": "263be012",
      "execution_count": null,
      "outputs": [
        {
          "name": "stdout",
          "output_type": "stream",
          "text": [
            "My name is Richard\n"
          ]
        }
      ]
    },
    {
      "cell_type": "code",
      "metadata": {
        "id": "bb87ec31"
      },
      "source": [
        "city = \"I love Paris!\"\n",
        "\n",
        "def my_function(): \n",
        "    return \"I love London!\"\n",
        "    print(city) \n",
        "  "
      ],
      "id": "bb87ec31",
      "execution_count": null,
      "outputs": []
    },
    {
      "cell_type": "code",
      "metadata": {
        "id": "a4ce20d3",
        "outputId": "c1f96f10-7c15-4bfc-83a6-c6ff049b6929"
      },
      "source": [
        "my_function()"
      ],
      "id": "a4ce20d3",
      "execution_count": null,
      "outputs": [
        {
          "data": {
            "text/plain": [
              "'I love London!'"
            ]
          },
          "execution_count": 132,
          "metadata": {},
          "output_type": "execute_result"
        }
      ]
    },
    {
      "cell_type": "code",
      "metadata": {
        "id": "0b6d9b5d"
      },
      "source": [
        "def outer():\n",
        "    x = \"previous\"\n",
        "    \n",
        "    def inner():\n",
        "        return \"later\"\n",
        "        x = \"later\"\n",
        "        print(\"inner:\", x)\n",
        "    \n",
        "    inner()\n",
        "    print(\"outer:\", x)\n"
      ],
      "id": "0b6d9b5d",
      "execution_count": null,
      "outputs": []
    },
    {
      "cell_type": "code",
      "metadata": {
        "id": "384ed945",
        "outputId": "e47e6de1-e6d1-408c-84e1-7e6ee7ffcc52"
      },
      "source": [
        "outer()"
      ],
      "id": "384ed945",
      "execution_count": null,
      "outputs": [
        {
          "name": "stdout",
          "output_type": "stream",
          "text": [
            "outer: previous\n"
          ]
        }
      ]
    },
    {
      "cell_type": "code",
      "metadata": {
        "id": "9a419244"
      },
      "source": [
        "generator = (i **2 for i in range (6))"
      ],
      "id": "9a419244",
      "execution_count": null,
      "outputs": []
    },
    {
      "cell_type": "code",
      "metadata": {
        "id": "de71daaf",
        "outputId": "b01e304c-b402-4b66-8d59-8406f3fa150a"
      },
      "source": [
        "generator"
      ],
      "id": "de71daaf",
      "execution_count": null,
      "outputs": [
        {
          "data": {
            "text/plain": [
              "<generator object <genexpr> at 0x00000186382C68F0>"
            ]
          },
          "execution_count": 136,
          "metadata": {},
          "output_type": "execute_result"
        }
      ]
    },
    {
      "cell_type": "code",
      "metadata": {
        "id": "49d33184",
        "outputId": "948bc374-5083-4eb8-9507-d4dadccace1d"
      },
      "source": [
        "print(* generator)"
      ],
      "id": "49d33184",
      "execution_count": null,
      "outputs": [
        {
          "name": "stdout",
          "output_type": "stream",
          "text": [
            "0 1 4 9 16 25\n"
          ]
        }
      ]
    },
    {
      "cell_type": "code",
      "metadata": {
        "id": "c19ae523"
      },
      "source": [
        "yeni_listem = [i**2 for i in range (6)]"
      ],
      "id": "c19ae523",
      "execution_count": null,
      "outputs": []
    },
    {
      "cell_type": "code",
      "metadata": {
        "id": "4b3c5761",
        "outputId": "741aebd6-67a6-4adf-950a-fde2500ce7f3"
      },
      "source": [
        "yeni_listem\n"
      ],
      "id": "4b3c5761",
      "execution_count": null,
      "outputs": [
        {
          "data": {
            "text/plain": [
              "[0, 1, 4, 9, 16, 25]"
            ]
          },
          "execution_count": 139,
          "metadata": {},
          "output_type": "execute_result"
        }
      ]
    },
    {
      "cell_type": "code",
      "metadata": {
        "id": "7d4bb449",
        "outputId": "f407ed7d-00e8-4765-9087-aa369181d67a"
      },
      "source": [
        "lambda x: 'odd' if x % 2 != 0 else 'even' "
      ],
      "id": "7d4bb449",
      "execution_count": null,
      "outputs": [
        {
          "data": {
            "text/plain": [
              "<function __main__.<lambda>(x)>"
            ]
          },
          "execution_count": 140,
          "metadata": {},
          "output_type": "execute_result"
        }
      ]
    },
    {
      "cell_type": "code",
      "metadata": {
        "id": "80801ea3",
        "outputId": "83a3ac29-de9e-43ef-f84b-5620278f11d9"
      },
      "source": [
        "print((lambda x: 'odd' if x % 2 != 0 else 'even') (2))"
      ],
      "id": "80801ea3",
      "execution_count": null,
      "outputs": [
        {
          "name": "stdout",
          "output_type": "stream",
          "text": [
            "even\n"
          ]
        }
      ]
    },
    {
      "cell_type": "code",
      "metadata": {
        "id": "2243c8ba",
        "outputId": "0b9989d1-8055-45d2-ada9-7e80e7789eea"
      },
      "source": [
        "print((lambda x: 'odd' if x % 2 != 0 else 'even') (3))"
      ],
      "id": "2243c8ba",
      "execution_count": null,
      "outputs": [
        {
          "name": "stdout",
          "output_type": "stream",
          "text": [
            "odd\n"
          ]
        }
      ]
    },
    {
      "cell_type": "code",
      "metadata": {
        "id": "be0df9c8",
        "outputId": "3f3194e7-fd9a-42ac-bf9c-70a6ff313495"
      },
      "source": [
        "print((lambda x: x**2)(2))"
      ],
      "id": "be0df9c8",
      "execution_count": null,
      "outputs": [
        {
          "name": "stdout",
          "output_type": "stream",
          "text": [
            "4\n"
          ]
        }
      ]
    },
    {
      "cell_type": "code",
      "metadata": {
        "id": "589b972c",
        "outputId": "5bdf993f-cf4f-4882-9e20-07c40ad682bf"
      },
      "source": [
        "iterable = [1, 2, 3, 4, 5]\n",
        "map(lambda x:x**2, iterable)\n",
        "result = map(lambda x:x**2, iterable)\n",
        "print(type(result))  # it's a map type\n",
        "\n",
        "print(list(result))  # we've converted it to list type to print\n",
        "\n",
        "print(list(map(lambda x:x**2, iterable)))  # you can print directly\n",
        "print(result)"
      ],
      "id": "589b972c",
      "execution_count": null,
      "outputs": [
        {
          "name": "stdout",
          "output_type": "stream",
          "text": [
            "<class 'map'>\n",
            "[1, 4, 9, 16, 25]\n",
            "[1, 4, 9, 16, 25]\n",
            "<map object at 0x0000018637EEB760>\n"
          ]
        }
      ]
    },
    {
      "cell_type": "code",
      "metadata": {
        "id": "40ee1b99",
        "outputId": "ba9c9a21-17c2-47b4-eee5-fb900fe0b2e8"
      },
      "source": [
        "def square(n):   # at least two additional lines of code\n",
        "    return n**2  \n",
        "  \n",
        "iterable = [1, 2, 3, 4, 5]\n",
        "result = map(square, iterable) \n",
        "print(list(result))"
      ],
      "id": "40ee1b99",
      "execution_count": null,
      "outputs": [
        {
          "name": "stdout",
          "output_type": "stream",
          "text": [
            "[1, 4, 9, 16, 25]\n"
          ]
        }
      ]
    },
    {
      "cell_type": "code",
      "metadata": {
        "id": "3ab65c60",
        "outputId": "d26c3cbe-c3bb-4750-938e-9e782bdeed31"
      },
      "source": [
        "letter1 = ['o', 's', 't', 't']\n",
        "letter2 = ['n', 'i', 'e', 'w']\n",
        "letter3 = ['e', 'x', 'n', 'o']\n",
        "numbers = map(lambda x, y, z: x+y+z, letter1, letter2, letter3)\n",
        "\n",
        "print(list(numbers))"
      ],
      "id": "3ab65c60",
      "execution_count": null,
      "outputs": [
        {
          "name": "stdout",
          "output_type": "stream",
          "text": [
            "['one', 'six', 'ten', 'two']\n"
          ]
        }
      ]
    },
    {
      "cell_type": "code",
      "metadata": {
        "id": "35df2e33",
        "outputId": "976e0a18-05e1-4650-a2b1-e25616ba6d04"
      },
      "source": [
        "number_list = [1, 2, 3, 4, 5]\n",
        "\n",
        "print(list(map(lambda x:x*2, number_list)))"
      ],
      "id": "35df2e33",
      "execution_count": null,
      "outputs": [
        {
          "name": "stdout",
          "output_type": "stream",
          "text": [
            "[2, 4, 6, 8, 10]\n"
          ]
        }
      ]
    },
    {
      "cell_type": "code",
      "metadata": {
        "id": "ffeaaa16"
      },
      "source": [
        "def myfunc(x):\n",
        "    return lambda a: x**a"
      ],
      "id": "ffeaaa16",
      "execution_count": null,
      "outputs": []
    },
    {
      "cell_type": "code",
      "metadata": {
        "id": "42cd4198",
        "outputId": "88166b0f-5bca-4200-d0a0-627e024ce2b6"
      },
      "source": [
        "myfunc(3)(2)"
      ],
      "id": "42cd4198",
      "execution_count": null,
      "outputs": [
        {
          "data": {
            "text/plain": [
              "9"
            ]
          },
          "execution_count": 149,
          "metadata": {},
          "output_type": "execute_result"
        }
      ]
    },
    {
      "cell_type": "code",
      "metadata": {
        "id": "22a8ff06",
        "outputId": "5f19b877-350e-44f0-dfc0-866c138cabb4"
      },
      "source": [
        "myfunc(3)()"
      ],
      "id": "22a8ff06",
      "execution_count": null,
      "outputs": [
        {
          "ename": "TypeError",
          "evalue": "myfunc.<locals>.<lambda>() missing 1 required positional argument: 'a'",
          "output_type": "error",
          "traceback": [
            "\u001b[1;31m---------------------------------------------------------------------------\u001b[0m",
            "\u001b[1;31mTypeError\u001b[0m                                 Traceback (most recent call last)",
            "\u001b[1;32m~\\AppData\\Local\\Temp/ipykernel_4796/2890332852.py\u001b[0m in \u001b[0;36m<module>\u001b[1;34m\u001b[0m\n\u001b[1;32m----> 1\u001b[1;33m \u001b[0mmyfunc\u001b[0m\u001b[1;33m(\u001b[0m\u001b[1;36m3\u001b[0m\u001b[1;33m)\u001b[0m\u001b[1;33m(\u001b[0m\u001b[1;33m)\u001b[0m\u001b[1;33m\u001b[0m\u001b[1;33m\u001b[0m\u001b[0m\n\u001b[0m",
            "\u001b[1;31mTypeError\u001b[0m: myfunc.<locals>.<lambda>() missing 1 required positional argument: 'a'"
          ]
        }
      ]
    },
    {
      "cell_type": "code",
      "metadata": {
        "id": "227dfc6f"
      },
      "source": [
        "sayılarım=[1,3,4,6,8,9,12]"
      ],
      "id": "227dfc6f",
      "execution_count": null,
      "outputs": []
    },
    {
      "cell_type": "code",
      "metadata": {
        "id": "8361bb4c"
      },
      "source": [
        "def karesi(x):\n",
        "    if x%2 == 0 :\n",
        "        return  x**2\n",
        "    elif x%2!=0:\n",
        "        return x**3\n",
        "\n",
        "list(map(karesi, sayılarım))\n"
      ],
      "id": "8361bb4c",
      "execution_count": null,
      "outputs": []
    },
    {
      "cell_type": "code",
      "metadata": {
        "id": "821bdc6b"
      },
      "source": [
        "list(map( lambda x:  x**2 if x % 2 == 0   else x**0 , sayılarım))"
      ],
      "id": "821bdc6b",
      "execution_count": null,
      "outputs": []
    },
    {
      "cell_type": "code",
      "metadata": {
        "id": "3dae4914"
      },
      "source": [
        "print((lambda x: x**2)(7))"
      ],
      "id": "3dae4914",
      "execution_count": null,
      "outputs": []
    },
    {
      "cell_type": "code",
      "metadata": {
        "id": "9f54b886"
      },
      "source": [
        "print((lambda x, y: (x**2+y**2)**0.5)(3, 4))"
      ],
      "id": "9f54b886",
      "execution_count": null,
      "outputs": []
    },
    {
      "cell_type": "code",
      "metadata": {
        "id": "e4d213ed"
      },
      "source": [
        "average = lambda x, y: (x+y)/2\n",
        "print(average(3, 5))  # we call"
      ],
      "id": "e4d213ed",
      "execution_count": null,
      "outputs": []
    },
    {
      "cell_type": "code",
      "metadata": {
        "id": "64d0f273"
      },
      "source": [
        "sayılarım1=[1,3,4,5]\n",
        "sayılarım2=[8,9,12,7]\n",
        "sayılarım3=[10,11,13,2]\n",
        "aaaaa=list(map(lambda x, y,z : x**2+y**2+z**2, sayılarım1,sayılarım2 , sayılarım3))\n",
        "print(aaaaa)"
      ],
      "id": "64d0f273",
      "execution_count": null,
      "outputs": []
    },
    {
      "cell_type": "code",
      "metadata": {
        "id": "05d76a5d"
      },
      "source": [
        "first_ten = [0, 1, 2, 3, 4, 5, 6, 7, 8, 9] \n",
        "  \n",
        "even = filter(lambda x:x%2==0, first_ten) \n",
        "print(type(even))  # it's 'filter' type, \n",
        "                   # in order to print the result,\n",
        "                   # we'd better convert it into the list type\n",
        "\n",
        "print('Even numbers are :', list(even))"
      ],
      "id": "05d76a5d",
      "execution_count": null,
      "outputs": []
    },
    {
      "cell_type": "code",
      "metadata": {
        "id": "961c99e5"
      },
      "source": [
        "vowel_list = ['a', 'e', 'i', 'o', 'u']\n",
        "first_ten = ['a', 'b', 'c', 'd', 'e', 'f', 'g', 'h', 'i', 'j']\n",
        "  \n",
        "vowels = filter(lambda x: True if x in vowel_list else False, first_ten) \n",
        "\n",
        "print('Vowels are :', list(vowels))"
      ],
      "id": "961c99e5",
      "execution_count": null,
      "outputs": []
    },
    {
      "cell_type": "code",
      "metadata": {
        "id": "30d854a1"
      },
      "source": [
        "number_list=[1, 2, 3, 4, 5, 6, 7, 8, 9, 10]"
      ],
      "id": "30d854a1",
      "execution_count": null,
      "outputs": []
    },
    {
      "cell_type": "code",
      "metadata": {
        "id": "49a25095"
      },
      "source": [
        "result = list(filter(lambda x: x>=6, number_list) )\n",
        "\n"
      ],
      "id": "49a25095",
      "execution_count": null,
      "outputs": []
    },
    {
      "cell_type": "code",
      "metadata": {
        "id": "279873ad"
      },
      "source": [
        "print(result)"
      ],
      "id": "279873ad",
      "execution_count": null,
      "outputs": []
    },
    {
      "cell_type": "code",
      "metadata": {
        "id": "0fc4bc00"
      },
      "source": [
        "def modular_function(n):\n",
        "    return lambda x: x ** n\n",
        "    \n",
        "power_of_2 = modular_function(2)  # first sub-function derived from def\n",
        "power_of_3 = modular_function(3)  # second sub-function derived from def\n",
        "power_of_4 = modular_function(4)  # third sub-function derived from def\n",
        "\n",
        "print(power_of_2(2))  # 2 to the power of 2\n",
        "print(power_of_3(2))  # 2 to the power of 3\n",
        "print(power_of_4(2))  # 2 to the power of 4"
      ],
      "id": "0fc4bc00",
      "execution_count": null,
      "outputs": []
    },
    {
      "cell_type": "code",
      "metadata": {
        "id": "4ce61b61"
      },
      "source": [
        "even = filter(lambda x: x%2==0, first_ten) "
      ],
      "id": "4ce61b61",
      "execution_count": null,
      "outputs": []
    },
    {
      "cell_type": "code",
      "metadata": {
        "id": "e82c8b1e",
        "outputId": "1b1bb35c-c77c-49f0-a1a6-fbae5e1cb09d"
      },
      "source": [
        "def repeater(n):\n",
        "    return lambda x: x * n\n",
        "    \n",
        "repeat_2_times = repeater(2)  # repeats 2 times\n",
        "repeat_3_times = repeater(3)  # repeats 3 times\n",
        "repeat_4_times = repeater(4)  # repeats 4 times\n",
        "\n",
        "print(repeat_2_times('alex '))\n",
        "print(repeat_3_times('lara '))\n",
        "print(repeat_4_times('linda '))\n",
        "print(repeat_2_times(55))\n",
        "print(repeater(2)(9))"
      ],
      "id": "e82c8b1e",
      "execution_count": null,
      "outputs": [
        {
          "name": "stdout",
          "output_type": "stream",
          "text": [
            "alex alex \n",
            "lara lara lara \n",
            "linda linda linda linda \n",
            "110\n",
            "18\n"
          ]
        }
      ]
    },
    {
      "cell_type": "code",
      "metadata": {
        "id": "040c844b",
        "outputId": "8ab11b32-d67e-4e28-b07b-6614ca4ff2ee"
      },
      "source": [
        "def modular_function(n):\n",
        "    return lambda x: x ** n\n",
        "\n",
        "power_of_3 = modular_function(3)\n",
        "print(power_of_3(5))"
      ],
      "id": "040c844b",
      "execution_count": null,
      "outputs": [
        {
          "name": "stdout",
          "output_type": "stream",
          "text": [
            "125\n"
          ]
        }
      ]
    },
    {
      "cell_type": "code",
      "metadata": {
        "id": "5ad76b7a",
        "outputId": "35ea79e0-9395-442a-b0dc-0cdb1606c240"
      },
      "source": [
        "print((lambda x: x**3)(5))"
      ],
      "id": "5ad76b7a",
      "execution_count": null,
      "outputs": [
        {
          "name": "stdout",
          "output_type": "stream",
          "text": [
            "125\n"
          ]
        }
      ]
    },
    {
      "cell_type": "code",
      "metadata": {
        "id": "71df55b7",
        "outputId": "8b18e12a-540d-44c3-9e71-5848ac3d4cf0"
      },
      "source": [
        "mean = lambda x, y: (x+y)/2\n",
        "print(mean(8, 10))"
      ],
      "id": "71df55b7",
      "execution_count": null,
      "outputs": [
        {
          "name": "stdout",
          "output_type": "stream",
          "text": [
            "9.0\n"
          ]
        }
      ]
    },
    {
      "cell_type": "code",
      "metadata": {
        "id": "3ee1fa85",
        "outputId": "90089a8c-76f7-4ed6-d9a2-a972f28f7633"
      },
      "source": [
        "multiply = lambda x: x * 4\n",
        "add = lambda x, y: x + y\n",
        "print(add(multiply(10), 5))"
      ],
      "id": "3ee1fa85",
      "execution_count": null,
      "outputs": [
        {
          "name": "stdout",
          "output_type": "stream",
          "text": [
            "45\n"
          ]
        }
      ]
    },
    {
      "cell_type": "code",
      "metadata": {
        "id": "5075e249",
        "outputId": "1344be34-818f-4c23-b044-21ae758783b3"
      },
      "source": [
        "number_list = [0, 1, 2, 3, 4, 5, 6, 7, 8, 9, 10, 11, 12] \n",
        "divisible_list = filter(lambda x:x%3==0, number_list) \n",
        "print(list(divisible_list))"
      ],
      "id": "5075e249",
      "execution_count": null,
      "outputs": [
        {
          "name": "stdout",
          "output_type": "stream",
          "text": [
            "[0, 3, 6, 9, 12]\n"
          ]
        }
      ]
    },
    {
      "cell_type": "code",
      "metadata": {
        "id": "8e60f046",
        "outputId": "da9f109e-10d7-4675-a273-22169d87ee5f"
      },
      "source": [
        "square = lambda x : x**2\n",
        "print(square(5))\n"
      ],
      "id": "8e60f046",
      "execution_count": null,
      "outputs": [
        {
          "name": "stdout",
          "output_type": "stream",
          "text": [
            "25\n"
          ]
        }
      ]
    },
    {
      "cell_type": "code",
      "metadata": {
        "id": "2cfa5036",
        "outputId": "8dfe18e0-0590-4216-d246-8f27c8bf72f2"
      },
      "source": [
        "number_list=[1, 2, 3, 4, 5, 6, 7, 8, 9, 10]\n",
        "\n",
        "result =list(filter( lambda x: x%2!=0, number_list))\n",
        "print(result)"
      ],
      "id": "2cfa5036",
      "execution_count": null,
      "outputs": [
        {
          "name": "stdout",
          "output_type": "stream",
          "text": [
            "[1, 3, 5, 7, 9]\n"
          ]
        }
      ]
    },
    {
      "cell_type": "code",
      "metadata": {
        "id": "b470ed7f",
        "outputId": "dfbe983a-a554-4321-a06e-f3a2be479446"
      },
      "source": [
        "number_list=[1, 2, 3, 4, 5]\n",
        "\n",
        "result=list(map(lambda x:x**2, number_list))\n",
        "print(result)"
      ],
      "id": "b470ed7f",
      "execution_count": null,
      "outputs": [
        {
          "name": "stdout",
          "output_type": "stream",
          "text": [
            "[1, 4, 9, 16, 25]\n"
          ]
        }
      ]
    },
    {
      "cell_type": "code",
      "metadata": {
        "id": "ff17c62b",
        "outputId": "b3b1bd14-5f1e-401c-a5a9-3498f49ad5e0"
      },
      "source": [
        "print(all(number_list))"
      ],
      "id": "ff17c62b",
      "execution_count": null,
      "outputs": [
        {
          "name": "stdout",
          "output_type": "stream",
          "text": [
            "True\n"
          ]
        }
      ]
    },
    {
      "cell_type": "code",
      "metadata": {
        "id": "dacf0d2d",
        "outputId": "515505d0-bbc2-4c9c-bb38-34076bc9beda"
      },
      "source": [
        "number_list11 = [0, 1, 2, 3, 4, 5, 6, 7, 8, 9, 10, 11, 12] \n",
        "print(all(number_list11))"
      ],
      "id": "dacf0d2d",
      "execution_count": null,
      "outputs": [
        {
          "name": "stdout",
          "output_type": "stream",
          "text": [
            "False\n"
          ]
        }
      ]
    },
    {
      "cell_type": "code",
      "metadata": {
        "id": "779b9044",
        "outputId": "00a68039-9303-468d-9599-3332d463d247"
      },
      "source": [
        "number_list11 = [0, 1, 2, 3, 4, 5, 6, 7, 8, 9, 10, 11, 12] \n",
        "print(any(number_list11))"
      ],
      "id": "779b9044",
      "execution_count": null,
      "outputs": [
        {
          "name": "stdout",
          "output_type": "stream",
          "text": [
            "True\n"
          ]
        }
      ]
    },
    {
      "cell_type": "code",
      "metadata": {
        "id": "64cdbe44",
        "outputId": "e29b31fc-e931-41fb-c18e-a265a6c94c85"
      },
      "source": [
        "num= [] \n",
        "print(all(num))"
      ],
      "id": "64cdbe44",
      "execution_count": null,
      "outputs": [
        {
          "name": "stdout",
          "output_type": "stream",
          "text": [
            "True\n"
          ]
        }
      ]
    },
    {
      "cell_type": "code",
      "metadata": {
        "id": "6e663675",
        "outputId": "665be416-f6cb-4fec-e701-bd41507ca4f2"
      },
      "source": [
        "num= [] \n",
        "print(any(num))"
      ],
      "id": "6e663675",
      "execution_count": null,
      "outputs": [
        {
          "name": "stdout",
          "output_type": "stream",
          "text": [
            "False\n"
          ]
        }
      ]
    },
    {
      "cell_type": "code",
      "metadata": {
        "id": "a360e3ae"
      },
      "source": [
        ""
      ],
      "id": "a360e3ae",
      "execution_count": null,
      "outputs": []
    },
    {
      "cell_type": "code",
      "metadata": {
        "id": "d0da858e"
      },
      "source": [
        ""
      ],
      "id": "d0da858e",
      "execution_count": null,
      "outputs": []
    },
    {
      "cell_type": "code",
      "metadata": {
        "id": "41c6311c"
      },
      "source": [
        ""
      ],
      "id": "41c6311c",
      "execution_count": null,
      "outputs": []
    },
    {
      "cell_type": "code",
      "metadata": {
        "id": "92b5a0b3"
      },
      "source": [
        ""
      ],
      "id": "92b5a0b3",
      "execution_count": null,
      "outputs": []
    },
    {
      "cell_type": "code",
      "metadata": {
        "id": "11bdaf07"
      },
      "source": [
        ""
      ],
      "id": "11bdaf07",
      "execution_count": null,
      "outputs": []
    }
  ]
}