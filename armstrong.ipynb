{
  "nbformat": 4,
  "nbformat_minor": 0,
  "metadata": {
    "colab": {
      "name": "armstrong.ipynb",
      "provenance": [],
      "collapsed_sections": [],
      "authorship_tag": "ABX9TyPd+wnu8J5OmnJPDIW9fnCj",
      "include_colab_link": true
    },
    "kernelspec": {
      "name": "python3",
      "display_name": "Python 3"
    },
    "language_info": {
      "name": "python"
    }
  },
  "cells": [
    {
      "cell_type": "markdown",
      "metadata": {
        "id": "view-in-github",
        "colab_type": "text"
      },
      "source": [
        "<a href=\"https://colab.research.google.com/github/ycetin94/vscode-example/blob/main/armstrong.ipynb\" target=\"_parent\"><img src=\"https://colab.research.google.com/assets/colab-badge.svg\" alt=\"Open In Colab\"/></a>"
      ]
    },
    {
      "cell_type": "code",
      "metadata": {
        "colab": {
          "base_uri": "https://localhost:8080/"
        },
        "id": "m7Ul9PFOLFkD",
        "outputId": "cd598066-4d7e-4687-de58-ffb9246a2b38"
      },
      "source": [
        "sayi = int(input(\"Sayıyı Giriniz:\"))\n",
        "basamak = str(sayi)\n",
        "\n",
        "toplam=0\n",
        "\n",
        "for x in basamak:\n",
        "    rakam = int(x)**len(basamak)\n",
        "    toplam += rakam\n",
        "\n",
        "if(sayi == toplam):\n",
        "    print(\"Bu Bir Armstrong Sayısıdır.\")\n",
        "else:\n",
        "    print(\"Armstong Sayısı Degildir.\")\n"
      ],
      "execution_count": null,
      "outputs": [
        {
          "output_type": "stream",
          "name": "stdout",
          "text": [
            "Sayıyı Giriniz:4679307774\n",
            "Bu Bir Armstrong Sayısıdır.\n"
          ]
        }
      ]
    }
  ]
}