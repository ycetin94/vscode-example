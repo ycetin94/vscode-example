{
  "nbformat": 4,
  "nbformat_minor": 5,
  "metadata": {
    "kernelspec": {
      "display_name": "Python 3 (ipykernel)",
      "language": "python",
      "name": "python3"
    },
    "language_info": {
      "codemirror_mode": {
        "name": "ipython",
        "version": 3
      },
      "file_extension": ".py",
      "mimetype": "text/x-python",
      "name": "python",
      "nbconvert_exporter": "python",
      "pygments_lexer": "ipython3",
      "version": "3.10.0"
    },
    "colab": {
      "name": "modul.ipynb",
      "provenance": [],
      "include_colab_link": true
    }
  },
  "cells": [
    {
      "cell_type": "markdown",
      "metadata": {
        "id": "view-in-github",
        "colab_type": "text"
      },
      "source": [
        "<a href=\"https://colab.research.google.com/github/ycetin94/vscode-example/blob/main/modul.ipynb\" target=\"_parent\"><img src=\"https://colab.research.google.com/assets/colab-badge.svg\" alt=\"Open In Colab\"/></a>"
      ]
    },
    {
      "cell_type": "code",
      "metadata": {
        "id": "b3265287",
        "outputId": "f41c7f86-abbe-44e2-b6ce-491ac3933d69"
      },
      "source": [
        "pwd\n"
      ],
      "id": "b3265287",
      "execution_count": null,
      "outputs": [
        {
          "data": {
            "text/plain": [
              "'C:\\\\Users\\\\Yusuf\\\\Desktop\\\\modül'"
            ]
          },
          "execution_count": 1,
          "metadata": {},
          "output_type": "execute_result"
        }
      ]
    },
    {
      "cell_type": "code",
      "metadata": {
        "id": "b67c12f8"
      },
      "source": [
        "from upper_package import my_package1, my_package2"
      ],
      "id": "b67c12f8",
      "execution_count": null,
      "outputs": []
    },
    {
      "cell_type": "code",
      "metadata": {
        "id": "180c2708"
      },
      "source": [
        "from upper_package.my_package1 import my_module_1, my_module_2"
      ],
      "id": "180c2708",
      "execution_count": null,
      "outputs": []
    },
    {
      "cell_type": "code",
      "metadata": {
        "id": "deab9d51",
        "outputId": "b93be55d-227a-469f-8ade-642eb684b1a2"
      },
      "source": [
        "dir(my_package1)"
      ],
      "id": "deab9d51",
      "execution_count": null,
      "outputs": [
        {
          "data": {
            "text/plain": [
              "['__builtins__',\n",
              " '__cached__',\n",
              " '__doc__',\n",
              " '__file__',\n",
              " '__loader__',\n",
              " '__name__',\n",
              " '__package__',\n",
              " '__path__',\n",
              " '__spec__',\n",
              " 'my_module_1',\n",
              " 'my_module_2']"
            ]
          },
          "execution_count": 8,
          "metadata": {},
          "output_type": "execute_result"
        }
      ]
    },
    {
      "cell_type": "code",
      "metadata": {
        "id": "d1de708f"
      },
      "source": [
        "from upper_package.my_package2 import my_module_3, my_module_4"
      ],
      "id": "d1de708f",
      "execution_count": null,
      "outputs": []
    },
    {
      "cell_type": "code",
      "metadata": {
        "id": "44f85c42",
        "outputId": "7842070a-7d05-48bc-b789-75d69d532561"
      },
      "source": [
        "dir(my_package2)"
      ],
      "id": "44f85c42",
      "execution_count": null,
      "outputs": [
        {
          "data": {
            "text/plain": [
              "['__builtins__',\n",
              " '__cached__',\n",
              " '__doc__',\n",
              " '__file__',\n",
              " '__loader__',\n",
              " '__name__',\n",
              " '__package__',\n",
              " '__path__',\n",
              " '__spec__',\n",
              " 'my_module_3',\n",
              " 'my_module_4']"
            ]
          },
          "execution_count": 11,
          "metadata": {},
          "output_type": "execute_result"
        }
      ]
    },
    {
      "cell_type": "code",
      "metadata": {
        "id": "1bb24c16",
        "outputId": "6ff043d1-3b65-455d-d77f-b63afafe1fcd"
      },
      "source": [
        "my_module_2.divide(10,5)"
      ],
      "id": "1bb24c16",
      "execution_count": null,
      "outputs": [
        {
          "data": {
            "text/plain": [
              "2.0"
            ]
          },
          "execution_count": 12,
          "metadata": {},
          "output_type": "execute_result"
        }
      ]
    },
    {
      "cell_type": "code",
      "metadata": {
        "id": "9b4c8b95",
        "outputId": "61c9eaab-71d6-4125-eea4-7a0111a41bc7"
      },
      "source": [
        "my_module_1.addition (4,5)"
      ],
      "id": "9b4c8b95",
      "execution_count": null,
      "outputs": [
        {
          "data": {
            "text/plain": [
              "9"
            ]
          },
          "execution_count": 13,
          "metadata": {},
          "output_type": "execute_result"
        }
      ]
    },
    {
      "cell_type": "code",
      "metadata": {
        "id": "cff6097d"
      },
      "source": [
        "import math"
      ],
      "id": "cff6097d",
      "execution_count": null,
      "outputs": []
    },
    {
      "cell_type": "code",
      "metadata": {
        "id": "1d438dae"
      },
      "source": [
        "from upper_package.my_package1.my_module_2 import divide,hello"
      ],
      "id": "1d438dae",
      "execution_count": null,
      "outputs": []
    },
    {
      "cell_type": "code",
      "metadata": {
        "id": "3b818434",
        "outputId": "b0ea70b7-af18-45bd-8c57-f77dcd7c086a"
      },
      "source": [
        "math.perm(5)"
      ],
      "id": "3b818434",
      "execution_count": null,
      "outputs": [
        {
          "data": {
            "text/plain": [
              "120"
            ]
          },
          "execution_count": 21,
          "metadata": {},
          "output_type": "execute_result"
        }
      ]
    },
    {
      "cell_type": "code",
      "metadata": {
        "id": "7053aec3",
        "outputId": "21652ef8-b12a-400d-c14e-f4aa0a1fb2da"
      },
      "source": [
        "print(dir(math))"
      ],
      "id": "7053aec3",
      "execution_count": null,
      "outputs": [
        {
          "name": "stdout",
          "output_type": "stream",
          "text": [
            "['__doc__', '__loader__', '__name__', '__package__', '__spec__', 'acos', 'acosh', 'asin', 'asinh', 'atan', 'atan2', 'atanh', 'ceil', 'comb', 'copysign', 'cos', 'cosh', 'degrees', 'dist', 'e', 'erf', 'erfc', 'exp', 'expm1', 'fabs', 'factorial', 'floor', 'fmod', 'frexp', 'fsum', 'gamma', 'gcd', 'hypot', 'inf', 'isclose', 'isfinite', 'isinf', 'isnan', 'isqrt', 'lcm', 'ldexp', 'lgamma', 'log', 'log10', 'log1p', 'log2', 'modf', 'nan', 'nextafter', 'perm', 'pi', 'pow', 'prod', 'radians', 'remainder', 'sin', 'sinh', 'sqrt', 'tan', 'tanh', 'tau', 'trunc', 'ulp']\n"
          ]
        }
      ]
    },
    {
      "cell_type": "code",
      "metadata": {
        "id": "34bfb419",
        "outputId": "fed1c909-6a90-4395-98c3-092a753678b0"
      },
      "source": [
        "math.pi"
      ],
      "id": "34bfb419",
      "execution_count": null,
      "outputs": [
        {
          "data": {
            "text/plain": [
              "3.141592653589793"
            ]
          },
          "execution_count": 23,
          "metadata": {},
          "output_type": "execute_result"
        }
      ]
    },
    {
      "cell_type": "code",
      "metadata": {
        "id": "c95e8d51",
        "outputId": "cc35bfe8-f1f3-458f-ba5c-95319ca3674c"
      },
      "source": [
        "math.factorial(4)"
      ],
      "id": "c95e8d51",
      "execution_count": null,
      "outputs": [
        {
          "data": {
            "text/plain": [
              "24"
            ]
          },
          "execution_count": 24,
          "metadata": {},
          "output_type": "execute_result"
        }
      ]
    },
    {
      "cell_type": "code",
      "metadata": {
        "id": "f60c9d29",
        "outputId": "fd0d7ec0-f06a-425a-c0d7-c9186185d631"
      },
      "source": [
        "math.log10(1000)"
      ],
      "id": "f60c9d29",
      "execution_count": null,
      "outputs": [
        {
          "data": {
            "text/plain": [
              "3.0"
            ]
          },
          "execution_count": 25,
          "metadata": {},
          "output_type": "execute_result"
        }
      ]
    },
    {
      "cell_type": "code",
      "metadata": {
        "id": "27ace8cc"
      },
      "source": [
        "from math import pi, factorial, log10"
      ],
      "id": "27ace8cc",
      "execution_count": null,
      "outputs": []
    },
    {
      "cell_type": "code",
      "metadata": {
        "id": "df75185d",
        "outputId": "71daf841-0694-4a88-a55a-206e6d3a944a"
      },
      "source": [
        "pi"
      ],
      "id": "df75185d",
      "execution_count": null,
      "outputs": [
        {
          "data": {
            "text/plain": [
              "3.141592653589793"
            ]
          },
          "execution_count": 27,
          "metadata": {},
          "output_type": "execute_result"
        }
      ]
    },
    {
      "cell_type": "code",
      "metadata": {
        "id": "2ec1260c",
        "outputId": "65020d50-8e7f-4422-f8ec-0910b13bcb7b"
      },
      "source": [
        "factorial(10)"
      ],
      "id": "2ec1260c",
      "execution_count": null,
      "outputs": [
        {
          "data": {
            "text/plain": [
              "3628800"
            ]
          },
          "execution_count": 28,
          "metadata": {},
          "output_type": "execute_result"
        }
      ]
    },
    {
      "cell_type": "code",
      "metadata": {
        "id": "9aa6f8d4",
        "outputId": "f4fa87bf-4ab9-4743-c14a-38d8271d7efb"
      },
      "source": [
        "log10(1000)"
      ],
      "id": "9aa6f8d4",
      "execution_count": null,
      "outputs": [
        {
          "data": {
            "text/plain": [
              "3.0"
            ]
          },
          "execution_count": 29,
          "metadata": {},
          "output_type": "execute_result"
        }
      ]
    },
    {
      "cell_type": "code",
      "metadata": {
        "id": "2c9b9deb"
      },
      "source": [
        "import datetime"
      ],
      "id": "2c9b9deb",
      "execution_count": null,
      "outputs": []
    },
    {
      "cell_type": "code",
      "metadata": {
        "id": "a27cc6ad",
        "outputId": "4a461fce-008a-4973-b700-0e114aba87fd"
      },
      "source": [
        "print(datetime.datetime.today())\n",
        "print(datetime.date.today())\n",
        "print(datetime.datetime.now())"
      ],
      "id": "a27cc6ad",
      "execution_count": null,
      "outputs": [
        {
          "name": "stdout",
          "output_type": "stream",
          "text": [
            "2021-12-02 22:21:04.480094\n",
            "2021-12-02\n",
            "2021-12-02 22:21:04.480094\n"
          ]
        }
      ]
    },
    {
      "cell_type": "code",
      "metadata": {
        "id": "23ed6cb7"
      },
      "source": [
        "# 22 april 571\n",
        "#8 june 632"
      ],
      "id": "23ed6cb7",
      "execution_count": null,
      "outputs": []
    },
    {
      "cell_type": "code",
      "metadata": {
        "id": "d040c789"
      },
      "source": [
        "from datetime import date"
      ],
      "id": "d040c789",
      "execution_count": null,
      "outputs": []
    },
    {
      "cell_type": "code",
      "metadata": {
        "id": "5452da02"
      },
      "source": [
        "birth = date(571,4,22)"
      ],
      "id": "5452da02",
      "execution_count": null,
      "outputs": []
    },
    {
      "cell_type": "code",
      "metadata": {
        "id": "81400e07",
        "outputId": "0128cc19-1dd4-4f0f-e3d6-42b97c1b3a4e"
      },
      "source": [
        "birth"
      ],
      "id": "81400e07",
      "execution_count": null,
      "outputs": [
        {
          "data": {
            "text/plain": [
              "datetime.date(571, 4, 22)"
            ]
          },
          "execution_count": 36,
          "metadata": {},
          "output_type": "execute_result"
        }
      ]
    },
    {
      "cell_type": "code",
      "metadata": {
        "id": "8fddbab4"
      },
      "source": [
        "death = date(632,6,8)"
      ],
      "id": "8fddbab4",
      "execution_count": null,
      "outputs": []
    },
    {
      "cell_type": "code",
      "metadata": {
        "id": "786821d3",
        "outputId": "f43febae-0219-427b-fb25-2ac1f271090d"
      },
      "source": [
        "death"
      ],
      "id": "786821d3",
      "execution_count": null,
      "outputs": [
        {
          "data": {
            "text/plain": [
              "datetime.date(632, 6, 8)"
            ]
          },
          "execution_count": 39,
          "metadata": {},
          "output_type": "execute_result"
        }
      ]
    },
    {
      "cell_type": "code",
      "metadata": {
        "id": "ac7ed4b8",
        "outputId": "f06a7b09-13b5-4bf8-bb87-ed5aa96fcf5f"
      },
      "source": [
        "date.toordinal(birth)"
      ],
      "id": "ac7ed4b8",
      "execution_count": null,
      "outputs": [
        {
          "data": {
            "text/plain": [
              "208300"
            ]
          },
          "execution_count": 40,
          "metadata": {},
          "output_type": "execute_result"
        }
      ]
    },
    {
      "cell_type": "code",
      "metadata": {
        "id": "e208ffbd",
        "outputId": "a223b508-7d31-46e1-b5f9-f0f3c7a5dd79"
      },
      "source": [
        "date.toordinal(death)"
      ],
      "id": "e208ffbd",
      "execution_count": null,
      "outputs": [
        {
          "data": {
            "text/plain": [
              "230627"
            ]
          },
          "execution_count": 41,
          "metadata": {},
          "output_type": "execute_result"
        }
      ]
    },
    {
      "cell_type": "code",
      "metadata": {
        "id": "d620e3c5",
        "outputId": "0af90821-f68d-4db7-c79b-8d10430cf388"
      },
      "source": [
        " date.toordinal(death) - date.toordinal(birth)"
      ],
      "id": "d620e3c5",
      "execution_count": null,
      "outputs": [
        {
          "data": {
            "text/plain": [
              "22327"
            ]
          },
          "execution_count": 42,
          "metadata": {},
          "output_type": "execute_result"
        }
      ]
    },
    {
      "cell_type": "code",
      "metadata": {
        "id": "4eaa2dc5"
      },
      "source": [
        "import random"
      ],
      "id": "4eaa2dc5",
      "execution_count": null,
      "outputs": []
    },
    {
      "cell_type": "code",
      "metadata": {
        "id": "6848edeb",
        "outputId": "c5447674-1b75-401d-8b19-03709a7ce5f9"
      },
      "source": [
        "random.choice"
      ],
      "id": "6848edeb",
      "execution_count": null,
      "outputs": [
        {
          "data": {
            "text/plain": [
              "<bound method Random.choice of <random.Random object at 0x00000228F5D202B0>>"
            ]
          },
          "execution_count": 47,
          "metadata": {},
          "output_type": "execute_result"
        }
      ]
    },
    {
      "cell_type": "code",
      "metadata": {
        "id": "c92356c9"
      },
      "source": [
        "city = [\"Stockholm\",\"Istanbul\",\"Seul\", \"Cape Town\"]"
      ],
      "id": "c92356c9",
      "execution_count": null,
      "outputs": []
    },
    {
      "cell_type": "code",
      "metadata": {
        "id": "ac48e645",
        "outputId": "4fb68400-140f-4088-ed78-cbc22d6645de"
      },
      "source": [
        "random.choice(city)"
      ],
      "id": "ac48e645",
      "execution_count": null,
      "outputs": [
        {
          "data": {
            "text/plain": [
              "'Seul'"
            ]
          },
          "execution_count": 56,
          "metadata": {},
          "output_type": "execute_result"
        }
      ]
    },
    {
      "cell_type": "code",
      "metadata": {
        "id": "08cbdb54",
        "outputId": "4afb4c1a-8c9c-4f83-965f-f675f179f20d"
      },
      "source": [
        "pip --version"
      ],
      "id": "08cbdb54",
      "execution_count": null,
      "outputs": [
        {
          "name": "stdout",
          "output_type": "stream",
          "text": [
            "pip 21.3.1 from C:\\Users\\Yusuf\\AppData\\Local\\Programs\\Python\\Python310\\lib\\site-packages\\pip (python 3.10)\n",
            "\n",
            "Note: you may need to restart the kernel to use updated packages.\n"
          ]
        }
      ]
    },
    {
      "cell_type": "code",
      "metadata": {
        "scrolled": true,
        "id": "f5c2e09f",
        "outputId": "1232f4c3-c1c2-4463-83b5-e43e9232d6f4"
      },
      "source": [
        "pip install kaggle"
      ],
      "id": "f5c2e09f",
      "execution_count": null,
      "outputs": [
        {
          "name": "stdout",
          "output_type": "stream",
          "text": [
            "Requirement already satisfied: kaggle in c:\\users\\yusuf\\appdata\\local\\programs\\python\\python310\\lib\\site-packages (1.5.12)\n",
            "Requirement already satisfied: six>=1.10 in c:\\users\\yusuf\\appdata\\local\\programs\\python\\python310\\lib\\site-packages (from kaggle) (1.16.0)\n",
            "Requirement already satisfied: certifi in c:\\users\\yusuf\\appdata\\local\\programs\\python\\python310\\lib\\site-packages (from kaggle) (2021.10.8)\n",
            "Requirement already satisfied: python-dateutil in c:\\users\\yusuf\\appdata\\local\\programs\\python\\python310\\lib\\site-packages (from kaggle) (2.8.2)\n",
            "Requirement already satisfied: requests in c:\\users\\yusuf\\appdata\\local\\programs\\python\\python310\\lib\\site-packages (from kaggle) (2.26.0)\n",
            "Requirement already satisfied: tqdm in c:\\users\\yusuf\\appdata\\local\\programs\\python\\python310\\lib\\site-packages (from kaggle) (4.62.3)\n",
            "Requirement already satisfied: python-slugify in c:\\users\\yusuf\\appdata\\local\\programs\\python\\python310\\lib\\site-packages (from kaggle) (5.0.2)\n",
            "Requirement already satisfied: urllib3 in c:\\users\\yusuf\\appdata\\local\\programs\\python\\python310\\lib\\site-packages (from kaggle) (1.26.7)\n",
            "Requirement already satisfied: text-unidecode>=1.3 in c:\\users\\yusuf\\appdata\\local\\programs\\python\\python310\\lib\\site-packages (from python-slugify->kaggle) (1.3)\n",
            "Requirement already satisfied: charset-normalizer~=2.0.0 in c:\\users\\yusuf\\appdata\\local\\programs\\python\\python310\\lib\\site-packages (from requests->kaggle) (2.0.7)\n",
            "Requirement already satisfied: idna<4,>=2.5 in c:\\users\\yusuf\\appdata\\local\\programs\\python\\python310\\lib\\site-packages (from requests->kaggle) (3.3)\n",
            "Requirement already satisfied: colorama in c:\\users\\yusuf\\appdata\\local\\programs\\python\\python310\\lib\\site-packages (from tqdm->kaggle) (0.4.4)\n",
            "Note: you may need to restart the kernel to use updated packages.\n"
          ]
        }
      ]
    },
    {
      "cell_type": "code",
      "metadata": {
        "id": "a42cf1b1",
        "outputId": "8c42f4c7-fc19-4001-aa54-0b1383c27ef4"
      },
      "source": [
        "pip install numpy"
      ],
      "id": "a42cf1b1",
      "execution_count": null,
      "outputs": [
        {
          "name": "stdout",
          "output_type": "stream",
          "text": [
            "Requirement already satisfied: numpy in c:\\users\\yusuf\\appdata\\local\\programs\\python\\python310\\lib\\site-packages (1.21.4)\n",
            "Note: you may need to restart the kernel to use updated packages.\n"
          ]
        }
      ]
    },
    {
      "cell_type": "code",
      "metadata": {
        "id": "e9c21177",
        "outputId": "1fa3f413-1ea6-48e4-d15e-d924963922f5"
      },
      "source": [
        "!pip list"
      ],
      "id": "e9c21177",
      "execution_count": null,
      "outputs": [
        {
          "name": "stdout",
          "output_type": "stream",
          "text": [
            "Package             Version\n",
            "------------------- ---------\n",
            "anyio               3.3.4\n",
            "argon2-cffi         21.1.0\n",
            "attrs               21.2.0\n",
            "Babel               2.9.1\n",
            "backcall            0.2.0\n",
            "bleach              4.1.0\n",
            "certifi             2021.10.8\n",
            "cffi                1.15.0\n",
            "charset-normalizer  2.0.7\n",
            "colorama            0.4.4\n",
            "cycler              0.11.0\n",
            "debugpy             1.5.1\n",
            "decorator           5.1.0\n",
            "defusedxml          0.7.1\n",
            "entrypoints         0.3\n",
            "idna                3.3\n",
            "ipykernel           6.5.0\n",
            "ipython             7.29.0\n",
            "ipython-genutils    0.2.0\n",
            "jedi                0.18.0\n",
            "Jinja2              3.0.2\n",
            "json5               0.9.6\n",
            "jsonschema          4.2.1\n",
            "jupyter-client      7.0.6\n",
            "jupyter-core        4.9.1\n",
            "jupyter-server      1.11.2\n",
            "jupyterlab          3.2.2\n",
            "jupyterlab-pygments 0.1.2\n",
            "jupyterlab-server   2.8.2\n",
            "jupyterlab-widgets  1.0.2\n",
            "kaggle              1.5.12\n",
            "kiwisolver          1.3.2\n",
            "MarkupSafe          2.0.1\n",
            "matplotlib-inline   0.1.3\n",
            "mistune             0.8.4\n",
            "nbclassic           0.3.4\n",
            "nbclient            0.5.4\n",
            "nbconvert           6.2.0\n",
            "nbformat            5.1.3\n",
            "nest-asyncio        1.5.1\n",
            "notebook            6.4.5\n",
            "numpy               1.21.4\n",
            "packaging           21.2\n",
            "pandocfilters       1.5.0\n",
            "parso               0.8.2\n",
            "pickleshare         0.7.5\n",
            "Pillow              8.4.0\n",
            "pip                 21.3.1\n",
            "prometheus-client   0.12.0\n",
            "prompt-toolkit      3.0.22\n",
            "pycparser           2.21\n",
            "Pygments            2.10.0\n",
            "pyparsing           2.4.7\n",
            "pyrsistent          0.18.0\n",
            "python-dateutil     2.8.2\n",
            "python-slugify      5.0.2\n",
            "pytz                2021.3\n",
            "pywin32             302\n",
            "pywinpty            1.1.5\n",
            "pyzmq               22.3.0\n",
            "qtconsole           5.1.1\n",
            "QtPy                1.11.2\n",
            "requests            2.26.0\n",
            "Send2Trash          1.8.0\n",
            "setuptools          57.4.0\n",
            "simplejson          3.17.5\n",
            "six                 1.16.0\n",
            "sniffio             1.2.0\n",
            "terminado           0.12.1\n",
            "testpath            0.5.0\n",
            "text-unidecode      1.3\n",
            "tornado             6.1\n",
            "tqdm                4.62.3\n",
            "traitlets           5.1.1\n",
            "txt2tags            3.7\n",
            "urllib3             1.26.7\n",
            "wcwidth             0.2.5\n",
            "webencodings        0.5.1\n",
            "websocket-client    1.2.1\n",
            "widgetsnbextension  3.5.2\n"
          ]
        }
      ]
    },
    {
      "cell_type": "code",
      "metadata": {
        "id": "28bc9ad7",
        "outputId": "d29741ab-dc47-4d0c-da4a-8ae855d97277"
      },
      "source": [
        "pip show numpy"
      ],
      "id": "28bc9ad7",
      "execution_count": null,
      "outputs": [
        {
          "name": "stdout",
          "output_type": "stream",
          "text": [
            "Name: numpy\n",
            "Version: 1.21.4\n",
            "Summary: NumPy is the fundamental package for array computing with Python.\n",
            "Home-page: https://www.numpy.org\n",
            "Author: Travis E. Oliphant et al.\n",
            "Author-email: \n",
            "License: BSD\n",
            "Location: c:\\users\\yusuf\\appdata\\local\\programs\\python\\python310\\lib\\site-packages\n",
            "Requires: \n",
            "Required-by: \n",
            "Note: you may need to restart the kernel to use updated packages.\n"
          ]
        }
      ]
    },
    {
      "cell_type": "code",
      "metadata": {
        "id": "ba977507"
      },
      "source": [
        ""
      ],
      "id": "ba977507",
      "execution_count": null,
      "outputs": []
    },
    {
      "cell_type": "code",
      "metadata": {
        "id": "e9e4fdc3"
      },
      "source": [
        ""
      ],
      "id": "e9e4fdc3",
      "execution_count": null,
      "outputs": []
    },
    {
      "cell_type": "code",
      "metadata": {
        "id": "d4e0955b"
      },
      "source": [
        ""
      ],
      "id": "d4e0955b",
      "execution_count": null,
      "outputs": []
    },
    {
      "cell_type": "code",
      "metadata": {
        "id": "1012e8ea"
      },
      "source": [
        ""
      ],
      "id": "1012e8ea",
      "execution_count": null,
      "outputs": []
    },
    {
      "cell_type": "code",
      "metadata": {
        "id": "0add4aa3"
      },
      "source": [
        ""
      ],
      "id": "0add4aa3",
      "execution_count": null,
      "outputs": []
    },
    {
      "cell_type": "code",
      "metadata": {
        "id": "74dbd075"
      },
      "source": [
        ""
      ],
      "id": "74dbd075",
      "execution_count": null,
      "outputs": []
    },
    {
      "cell_type": "code",
      "metadata": {
        "id": "2dc560ba"
      },
      "source": [
        ""
      ],
      "id": "2dc560ba",
      "execution_count": null,
      "outputs": []
    },
    {
      "cell_type": "code",
      "metadata": {
        "id": "42ba7f61"
      },
      "source": [
        ""
      ],
      "id": "42ba7f61",
      "execution_count": null,
      "outputs": []
    },
    {
      "cell_type": "code",
      "metadata": {
        "id": "2fdd776f"
      },
      "source": [
        ""
      ],
      "id": "2fdd776f",
      "execution_count": null,
      "outputs": []
    },
    {
      "cell_type": "code",
      "metadata": {
        "id": "53845339"
      },
      "source": [
        ""
      ],
      "id": "53845339",
      "execution_count": null,
      "outputs": []
    },
    {
      "cell_type": "code",
      "metadata": {
        "id": "7b35b79e"
      },
      "source": [
        ""
      ],
      "id": "7b35b79e",
      "execution_count": null,
      "outputs": []
    },
    {
      "cell_type": "code",
      "metadata": {
        "id": "3489da4f"
      },
      "source": [
        ""
      ],
      "id": "3489da4f",
      "execution_count": null,
      "outputs": []
    }
  ]
}